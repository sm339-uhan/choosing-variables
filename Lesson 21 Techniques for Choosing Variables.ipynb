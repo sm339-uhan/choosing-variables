{
 "cells": [
  {
   "cell_type": "markdown",
   "id": "a9e27a2f-9be4-424d-a279-5b4797538147",
   "metadata": {},
   "source": [
    "**SM339 &#x25aa; Applied Statistics &#x25aa; Spring 2023 &#x25aa; Uhan**"
   ]
  },
  {
   "cell_type": "markdown",
   "id": "b96a8e6e-7240-4f37-8df3-26aac59b3c8b",
   "metadata": {},
   "source": [
    "# Lesson 21. Techniques for Choosing Variables"
   ]
  },
  {
   "cell_type": "markdown",
   "id": "d59b134d-0cfe-451e-a9ed-e3a055c7b85c",
   "metadata": {},
   "source": [
    "*Edit and run the cell below to resize the plots.*"
   ]
  },
  {
   "cell_type": "code",
   "execution_count": null,
   "id": "0abf2f1a-5621-47e4-adb4-be9337eb3611",
   "metadata": {},
   "outputs": [],
   "source": [
    "options(repr.plot.width=8, repr.plot.height=8)"
   ]
  },
  {
   "cell_type": "markdown",
   "id": "754c254a-a4e5-4c39-bb75-8aa40e2707fd",
   "metadata": {},
   "source": [
    "## Overview"
   ]
  },
  {
   "cell_type": "markdown",
   "id": "3e9d65b2-75d2-4c27-bb13-42ab9dcd85c3",
   "metadata": {},
   "source": [
    "- A __term__ is a predictor, function of a predictor (like quadratic terms), or quantity derived from more than one predictor \n",
    "\n",
    "- Suppose we have many potential terms that we can include in our model\n",
    "\n",
    "- If we have $k$ possible terms, then how many possible models are there? "
   ]
  },
  {
   "cell_type": "markdown",
   "id": "8e81af1f-5540-4b70-9e09-b6e27438edcd",
   "metadata": {
    "tags": []
   },
   "source": [
    "*Write your notes here. Double-click to edit.*"
   ]
  },
  {
   "cell_type": "markdown",
   "id": "7b09526a-8516-479b-991c-45a55caf3301",
   "metadata": {},
   "source": [
    "- In this lesson, we will learn about techniques for choosing a \"good\" set of predictors"
   ]
  },
  {
   "cell_type": "markdown",
   "id": "f3e2b238-ef6c-4f3c-b576-8f2c524e52ae",
   "metadata": {},
   "source": [
    "## Example 1"
   ]
  },
  {
   "cell_type": "markdown",
   "id": "bc6d9ce9-bb8a-4264-8554-ed09ed640d28",
   "metadata": {},
   "source": [
    "The dataset `FirstYearGPA` from the `Stat2Data` library contains measurements on 219 college students.\n",
    "The response variable is $\\mathit{GPA}$ (grade point average after one year of college).\n",
    "The potential predictors are:\n",
    "\n",
    "| Variable | Description | \n",
    "| :- | :- |\n",
    "| _HSGPA_ | High school GPA |\n",
    "| _SATV_ | Verbal/critical reading SAT score |\n",
    "| _SATM_ | Math SAT score |\n",
    "| _Male_ | 1 for male, 0 for female |\n",
    "| _HU_ | Number of credit hours earned in humanities courses in high school |\n",
    "| _SS_ | Number of credit hours earned in social science courses in high school |\n",
    "| _FirstGen_ | 1 if the student is first in their family to attend college |\n",
    "| _White_ | 1 for white students, 0 for others |\n",
    "| _CollegeBound_ | 1 if attended a high school where $\\ge$ 50% of students intdent to go on to college |"
   ]
  },
  {
   "cell_type": "code",
   "execution_count": null,
   "id": "9eef6e58-8c73-4e4c-b363-dd80647b8f3f",
   "metadata": {},
   "outputs": [],
   "source": [
    "library(Stat2Data)\n",
    "data(FirstYearGPA)\n",
    "head(FirstYearGPA)"
   ]
  },
  {
   "cell_type": "markdown",
   "id": "5c434212-c229-4cfc-bdfd-c2db986813fc",
   "metadata": {},
   "source": [
    "- Let's start by creating scatterplots between all the _quantitative_ variables in `FirstYearGPA`\n",
    "\n",
    "- This way, we can visually see the correlations between our response variable $\\mathit{GPA}$ and the other quantitative variables\n",
    "\n",
    "- We can create a dataframe using certain existing columns from another dataframe like this:\n",
    "\n",
    "    ```r\n",
    "    FirstYearGPA[, c('GPA', 'HSGPA', 'SATV', 'SATM', 'HU', 'SS')]\n",
    "    ```\n",
    "   <br>\n",
    "    \n",
    "    - We've used a similar construct before to select certain rows of a dataframe\n",
    "    - Note the placement of the comma!<br><br>\n",
    "    \n",
    "- Then, we can use `pairs()` function to get scatterplots between all the variables in the dataframe, like this:"
   ]
  },
  {
   "cell_type": "code",
   "execution_count": null,
   "id": "76dd6cea-691c-4045-a8c2-5a617536eb9a",
   "metadata": {},
   "outputs": [],
   "source": []
  },
  {
   "cell_type": "markdown",
   "id": "03d00b2d-5dfd-46d7-b53a-902f88bb9bfd",
   "metadata": {},
   "source": [
    "- We can also create boxplots of our response variable $\\mathit{GPA}$ _by group_ for the four categorical predictors, like this:"
   ]
  },
  {
   "cell_type": "code",
   "execution_count": null,
   "id": "f33268b0-66e9-4eff-bbf1-a7d1498260f9",
   "metadata": {},
   "outputs": [],
   "source": []
  },
  {
   "cell_type": "markdown",
   "id": "ffa9c54f-b4d2-4725-b267-725f66266cc6",
   "metadata": {},
   "source": [
    "- We can also get the correlation between $\\mathit{GPA}$ and all the other possible predictors, like this:"
   ]
  },
  {
   "cell_type": "code",
   "execution_count": null,
   "id": "85a90c71-bc50-4d4b-8f5b-bbe04b5dad56",
   "metadata": {},
   "outputs": [],
   "source": []
  },
  {
   "cell_type": "markdown",
   "id": "38a64a13-d4b9-4f02-b346-ea9ceb1ef958",
   "metadata": {},
   "source": [
    "* Based on the plots and computations above, which predictors do you think are promising?"
   ]
  },
  {
   "cell_type": "markdown",
   "id": "cb012bf9-875d-4f2c-b047-ee10688deceb",
   "metadata": {},
   "source": [
    "*Write your notes here. Double-click to edit.*"
   ]
  },
  {
   "cell_type": "markdown",
   "id": "925235d4-4268-4c67-a2e3-7be22c0b9cd0",
   "metadata": {},
   "source": [
    "## Best subsets regression"
   ]
  },
  {
   "cell_type": "markdown",
   "id": "7d3ce132-ec04-42f9-bdca-816347e9d456",
   "metadata": {},
   "source": [
    "- __Best subsets regression__ chooses predictors by comparing _all possible subsets of predictors_ according to some metric \n",
    "\n",
    "    - For example, adjusted $R^2$"
   ]
  },
  {
   "cell_type": "markdown",
   "id": "c8cc7853-c505-4dd6-890f-67d03144e4b6",
   "metadata": {},
   "source": [
    "- Given the power and speed of today's computers, this is feasible, as long as the number of predictors is not too large\n",
    "\n",
    "- In R, we can use the `regsubsets()` function from the `leaps` library \n",
    "\n",
    "    - _Note._ You may need to install the `leaps` library first:\n",
    "\n",
    "        ```r\n",
    "            install.packages('leaps')\n",
    "        ```"
   ]
  },
  {
   "cell_type": "markdown",
   "id": "681c91f5-0ec6-434a-a575-ac26df877465",
   "metadata": {},
   "source": [
    "## Example 2"
   ]
  },
  {
   "cell_type": "markdown",
   "id": "da3ff058-52e9-49e9-989a-d78b8c54dea4",
   "metadata": {},
   "source": [
    "Continuing the `FirstYearGPA` example in Example 1 above...\n",
    "\n",
    "* We can run the best subsets regression procedure like this:"
   ]
  },
  {
   "cell_type": "code",
   "execution_count": null,
   "id": "fd622be3-4e8b-40eb-9136-67e9c2262560",
   "metadata": {},
   "outputs": [],
   "source": [
    "library(leaps)"
   ]
  },
  {
   "cell_type": "code",
   "execution_count": null,
   "id": "e9229b46-9918-4dcf-8cd9-9baddf2bb6c7",
   "metadata": {},
   "outputs": [],
   "source": [
    "models <- regsubsets(GPA ~ HSGPA + SATV + SATM + Male + HU + SS + FirstGen + White + CollegeBound, \n",
    "                     data = FirstYearGPA, nbest = 2)\n",
    "sum <- summary(models)\n",
    "cbind(as.data.frame(sum$outmat), sum$rsq, sum$adjr2, sum$cp)"
   ]
  },
  {
   "cell_type": "markdown",
   "id": "24fac8ce-28fd-4c35-8ead-81003f6d31ed",
   "metadata": {},
   "source": [
    "- The `nbest = 2` keyword argument in `regsubsets()` tells R to output the information for the 2 models with the highest $R^2$ at each size\n",
    "\n",
    "- The second to last column of the `regsubsets()` output table shows the adjusted $R^2$ for each model\n",
    "\n",
    "- Suppose that our goal is to find a model that maximizes the adjusted $R^2$ \n",
    "\n",
    "- Which is the \"best\" model under our criteria?"
   ]
  },
  {
   "cell_type": "markdown",
   "id": "1d186bac-e561-450b-b323-27e830cf06e6",
   "metadata": {},
   "source": [
    "*Write your notes here. Double-click to edit.*"
   ]
  },
  {
   "cell_type": "markdown",
   "id": "ab94e9b4-6410-430d-9fe8-d72405051d80",
   "metadata": {},
   "source": [
    "* Let's fit the model with the highest adjusted $R^2$:"
   ]
  },
  {
   "cell_type": "code",
   "execution_count": null,
   "id": "fbf8ddfd-1837-436f-8ade-89b482472d4e",
   "metadata": {},
   "outputs": [],
   "source": []
  },
  {
   "cell_type": "markdown",
   "id": "6e766a72-344d-4f29-b6d3-9d3c89b1e23a",
   "metadata": {},
   "source": [
    "- It appears that two of the predictors, $\\mathit{Male}$ and $\\mathit{SS}$, would not be significant at the 0.05 level\n",
    "\n",
    "- Could a simpler model be just as effective?\n",
    "\n",
    "- Should we perhaps use another criterion for selecting the \"best\" model?"
   ]
  },
  {
   "cell_type": "markdown",
   "id": "36131f71-9e51-4995-a68c-251a5198eb2c",
   "metadata": {},
   "source": [
    "## Mallows's $C_p$"
   ]
  },
  {
   "cell_type": "markdown",
   "id": "c0c0fba3-f176-4616-b7c8-857e9debc02e",
   "metadata": {},
   "source": [
    "- The criteria we have used so far to evaluate a model (e.g., $R^2$, adjusted $R^2$, individual $t$-tests, etc.) depend _only_ on the predictors in the model being evaluated\n",
    "\n",
    "- They do _not_ take into account what information might be available in the other potential predictors that aren't in the model\n",
    "\n",
    "- __Mallows's $C_p$__ is a measure of model quality that _does_ consider other potential predictors\n",
    "\n",
    "- These are the values in the last column of the table output by `regsubsets()` above\n",
    "\n",
    "- We prefer models where $C_p$ is _small_\n",
    "\n",
    "- For details on how Mallows's $C_p$ is computed, see Section 4.2 in STAT2 "
   ]
  },
  {
   "cell_type": "markdown",
   "id": "cee2a76a-5794-4fe4-9972-aa3ddd959b1a",
   "metadata": {},
   "source": [
    "## Example 3"
   ]
  },
  {
   "cell_type": "markdown",
   "id": "351a67d6-ef79-4769-9fb4-02a399d4ae7f",
   "metadata": {},
   "source": [
    "Continuing the `FirstYearGPA` example from Examples 1 and 2...\n",
    "\n",
    "* Which model has the smallest $C_p$?"
   ]
  },
  {
   "cell_type": "markdown",
   "id": "adc43d5e-5eb8-405a-acc1-1d21e713b5a3",
   "metadata": {},
   "source": [
    "*Write your notes here. Double-click to edit.*"
   ]
  },
  {
   "cell_type": "markdown",
   "id": "0f352906-de07-49ca-a31a-b5d2e1c44ef3",
   "metadata": {},
   "source": [
    "* Let's fit the model with the smallest $C_p$:"
   ]
  },
  {
   "cell_type": "code",
   "execution_count": null,
   "id": "5b59e0fb-7b57-491f-8c96-d05e2949fb16",
   "metadata": {},
   "outputs": [],
   "source": []
  },
  {
   "cell_type": "markdown",
   "id": "81f982f8-0b06-44c0-9e9d-6cb9c08794e0",
   "metadata": {},
   "source": [
    "- Note that this model omits the $\\mathit{Male}$ predictor that had an insignificant $t$-test in the six-predictor model with the highest adjusted $R^2$\n",
    "\n",
    "- However, $\\mathit{SS}$ is still not significant at the 0.05 level\n",
    "\n",
    "- Looking at the `regsubsets()` output table above, there is a four-predictor model that removes $\\mathit{SS}$ with essentially the same $C_p$ of 3.900\n",
    "\n",
    "- Let's fit this model:"
   ]
  },
  {
   "cell_type": "code",
   "execution_count": null,
   "id": "18baf9ac-b3ac-4dd0-b728-49ac85f73878",
   "metadata": {},
   "outputs": [],
   "source": []
  },
  {
   "cell_type": "markdown",
   "id": "8edf2706-e4cd-4e1d-9331-3c68b26e9d4b",
   "metadata": {},
   "source": [
    "- Now all predictors are significant at the 0.05 level\n",
    "\n",
    "- In the interest of parsmiony, we would typically prefer the simpler four-predictor model &ndash; the increase in $C_p$ is only very minor"
   ]
  },
  {
   "cell_type": "markdown",
   "id": "04754d78-b253-4d77-af7f-2dd00cfa5db6",
   "metadata": {},
   "source": [
    "## Notes"
   ]
  },
  {
   "cell_type": "markdown",
   "id": "b7656be4-62e4-4979-8b38-b45d00da8255",
   "metadata": {},
   "source": [
    "- We saw in Examples 2 and 3 that choosing a \"best\" model can differ, depending on the metric used\n",
    "\n",
    "- Often, there is more than one model that does a good job of predicting a response variable\n",
    "\n",
    "- It is possible for different statisticians who are studying the same dataset to come up with somewhat different regression models\n",
    "\n",
    "- \"Best\" is misleading - we are not searching for one true ideal model, but for a good model that helps us answer the question of interest"
   ]
  }
 ],
 "metadata": {
  "kernelspec": {
   "display_name": "R",
   "language": "R",
   "name": "ir"
  },
  "language_info": {
   "codemirror_mode": "r",
   "file_extension": ".r",
   "mimetype": "text/x-r-source",
   "name": "R",
   "pygments_lexer": "r",
   "version": "4.2.2"
  }
 },
 "nbformat": 4,
 "nbformat_minor": 5
}
